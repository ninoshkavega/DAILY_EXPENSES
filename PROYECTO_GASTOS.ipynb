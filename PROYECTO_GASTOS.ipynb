{
 "cells": [
  {
   "cell_type": "code",
   "execution_count": 161,
   "id": "838b0d9c",
   "metadata": {},
   "outputs": [],
   "source": [
    "import pandas as pd \n",
    "import numpy as np\n",
    "GASTOS = pd.read_excel(r'C:\\Users\\geosh\\Documents\\DATASETS AND PROJECTS\\GASTOSPERSONALES.xlsx')"
   ]
  },
  {
   "cell_type": "code",
   "execution_count": 162,
   "id": "c0228679",
   "metadata": {},
   "outputs": [
    {
     "data": {
      "text/html": [
       "<div>\n",
       "<style scoped>\n",
       "    .dataframe tbody tr th:only-of-type {\n",
       "        vertical-align: middle;\n",
       "    }\n",
       "\n",
       "    .dataframe tbody tr th {\n",
       "        vertical-align: top;\n",
       "    }\n",
       "\n",
       "    .dataframe thead th {\n",
       "        text-align: right;\n",
       "    }\n",
       "</style>\n",
       "<table border=\"1\" class=\"dataframe\">\n",
       "  <thead>\n",
       "    <tr style=\"text-align: right;\">\n",
       "      <th></th>\n",
       "      <th>DATE</th>\n",
       "      <th>EXPENSE</th>\n",
       "      <th>AMOUNT</th>\n",
       "      <th>TYPE</th>\n",
       "    </tr>\n",
       "  </thead>\n",
       "  <tbody>\n",
       "    <tr>\n",
       "      <th>0</th>\n",
       "      <td>2023-04-01</td>\n",
       "      <td>SNACK</td>\n",
       "      <td>5.50</td>\n",
       "      <td>NO ESENCIAL</td>\n",
       "    </tr>\n",
       "    <tr>\n",
       "      <th>1</th>\n",
       "      <td>2023-04-01</td>\n",
       "      <td>TALLER</td>\n",
       "      <td>20.00</td>\n",
       "      <td>ESENCIAL</td>\n",
       "    </tr>\n",
       "    <tr>\n",
       "      <th>2</th>\n",
       "      <td>2023-04-02</td>\n",
       "      <td>SNACK</td>\n",
       "      <td>3.50</td>\n",
       "      <td>NO ESENCIAL</td>\n",
       "    </tr>\n",
       "    <tr>\n",
       "      <th>3</th>\n",
       "      <td>2023-04-02</td>\n",
       "      <td>OTROS</td>\n",
       "      <td>5.00</td>\n",
       "      <td>ESENCIAL</td>\n",
       "    </tr>\n",
       "    <tr>\n",
       "      <th>4</th>\n",
       "      <td>2023-04-02</td>\n",
       "      <td>GAS</td>\n",
       "      <td>10.00</td>\n",
       "      <td>ESENCIAL</td>\n",
       "    </tr>\n",
       "    <tr>\n",
       "      <th>...</th>\n",
       "      <td>...</td>\n",
       "      <td>...</td>\n",
       "      <td>...</td>\n",
       "      <td>...</td>\n",
       "    </tr>\n",
       "    <tr>\n",
       "      <th>89</th>\n",
       "      <td>2023-06-17</td>\n",
       "      <td>SNACK</td>\n",
       "      <td>3.99</td>\n",
       "      <td>NO ESENCIAL</td>\n",
       "    </tr>\n",
       "    <tr>\n",
       "      <th>90</th>\n",
       "      <td>2023-06-16</td>\n",
       "      <td>SNACK</td>\n",
       "      <td>2.00</td>\n",
       "      <td>NO ESENCIAL</td>\n",
       "    </tr>\n",
       "    <tr>\n",
       "      <th>91</th>\n",
       "      <td>2023-06-15</td>\n",
       "      <td>REST.</td>\n",
       "      <td>6.10</td>\n",
       "      <td>ESENCIAL</td>\n",
       "    </tr>\n",
       "    <tr>\n",
       "      <th>92</th>\n",
       "      <td>2023-06-15</td>\n",
       "      <td>SNACK</td>\n",
       "      <td>2.50</td>\n",
       "      <td>NO ESENCIAL</td>\n",
       "    </tr>\n",
       "    <tr>\n",
       "      <th>93</th>\n",
       "      <td>2023-06-15</td>\n",
       "      <td>REST.</td>\n",
       "      <td>6.10</td>\n",
       "      <td>ESENCIAL</td>\n",
       "    </tr>\n",
       "  </tbody>\n",
       "</table>\n",
       "<p>94 rows × 4 columns</p>\n",
       "</div>"
      ],
      "text/plain": [
       "         DATE EXPENSE  AMOUNT         TYPE\n",
       "0  2023-04-01   SNACK    5.50  NO ESENCIAL\n",
       "1  2023-04-01  TALLER   20.00     ESENCIAL\n",
       "2  2023-04-02   SNACK    3.50  NO ESENCIAL\n",
       "3  2023-04-02   OTROS    5.00     ESENCIAL\n",
       "4  2023-04-02     GAS   10.00     ESENCIAL\n",
       "..        ...     ...     ...          ...\n",
       "89 2023-06-17   SNACK    3.99  NO ESENCIAL\n",
       "90 2023-06-16   SNACK    2.00  NO ESENCIAL\n",
       "91 2023-06-15   REST.    6.10     ESENCIAL\n",
       "92 2023-06-15   SNACK    2.50  NO ESENCIAL\n",
       "93 2023-06-15   REST.    6.10     ESENCIAL\n",
       "\n",
       "[94 rows x 4 columns]"
      ]
     },
     "execution_count": 162,
     "metadata": {},
     "output_type": "execute_result"
    }
   ],
   "source": [
    "GASTOS"
   ]
  },
  {
   "cell_type": "code",
   "execution_count": 163,
   "id": "6306b05b",
   "metadata": {},
   "outputs": [
    {
     "data": {
      "text/plain": [
       "SNACK        27\n",
       "OTROS        12\n",
       "GAS           9\n",
       "REST.         9\n",
       "SHOPPING      7\n",
       "SUPER         6\n",
       "UBER          5\n",
       "TALLER        3\n",
       "CEJAS         2\n",
       "SMARFIT       2\n",
       "SPOTIFY       2\n",
       "GYM           1\n",
       "CINE          1\n",
       "SALON         1\n",
       "TIGO          1\n",
       "COMIDA        1\n",
       "ZAPATOS       1\n",
       "PLAN TIGO     1\n",
       "MATRICULA     1\n",
       "NETFLIX       1\n",
       "LUZ           1\n",
       "Name: EXPENSE, dtype: int64"
      ]
     },
     "execution_count": 163,
     "metadata": {},
     "output_type": "execute_result"
    }
   ],
   "source": [
    "##PASOS A SEGUIR LIMPIAR DATOS \n",
    "## MAPPING DE ESENCIAL Y NO ESENCIAL\n",
    "## OBJETVO, HACER UN ANALISIS EXPLORATORIO DE LOS GASTOS\n",
    "## PREDECIR GASTOS A FUTURO\n",
    "## VER PATRON DE GASTOS \n",
    "## AÑADIR VARIABLES INDEPENDIENTES COMO EL SALARIO\n",
    "## ESTABLECER MODELO DE PREDICCION\n",
    "## VERIFICAR CALIDAD DE LOS RESULTADOS\n",
    "GASTOS['EXPENSE'].value_counts()"
   ]
  },
  {
   "cell_type": "code",
   "execution_count": 164,
   "id": "dd4a8744",
   "metadata": {},
   "outputs": [
    {
     "data": {
      "text/plain": [
       "DATE       94\n",
       "EXPENSE    94\n",
       "AMOUNT     94\n",
       "TYPE       94\n",
       "dtype: int64"
      ]
     },
     "execution_count": 164,
     "metadata": {},
     "output_type": "execute_result"
    }
   ],
   "source": [
    "GASTOS.count()"
   ]
  },
  {
   "cell_type": "markdown",
   "id": "2238c0e6",
   "metadata": {},
   "source": [
    "# Análisis Exploratorio\n"
   ]
  },
  {
   "cell_type": "code",
   "execution_count": 165,
   "id": "9a98b174",
   "metadata": {},
   "outputs": [
    {
     "data": {
      "text/plain": [
       "<seaborn.axisgrid.FacetGrid at 0x1a018ec59c0>"
      ]
     },
     "execution_count": 165,
     "metadata": {},
     "output_type": "execute_result"
    },
    {
     "data": {
      "image/png": "[encoded data removed]",
      "text/plain": [
       "<Figure size 500x500 with 1 Axes>"
      ]
     },
     "metadata": {},
     "output_type": "display_data"
    }
   ],
   "source": [
    "import seaborn as sns\n",
    "EXPENSES = GASTOS['TYPE']\n",
    "sns.set_theme(style=\"whitegrid\", palette=\"Spectral\")\n",
    "sns.displot(EXPENSES, bins=4)"
   ]
  },
  {
   "cell_type": "code",
   "execution_count": 166,
   "id": "3a6915c9",
   "metadata": {},
   "outputs": [
    {
     "name": "stdout",
     "output_type": "stream",
     "text": [
      "<class 'pandas.core.frame.DataFrame'>\n",
      "RangeIndex: 94 entries, 0 to 93\n",
      "Data columns (total 4 columns):\n",
      " #   Column   Non-Null Count  Dtype         \n",
      "---  ------   --------------  -----         \n",
      " 0   DATE     94 non-null     datetime64[ns]\n",
      " 1   EXPENSE  94 non-null     object        \n",
      " 2   AMOUNT   94 non-null     float64       \n",
      " 3   TYPE     94 non-null     object        \n",
      "dtypes: datetime64[ns](1), float64(1), object(2)\n",
      "memory usage: 3.1+ KB\n"
     ]
    }
   ],
   "source": [
    "GASTOS.info()"
   ]
  },
  {
   "cell_type": "code",
   "execution_count": 167,
   "id": "f784e8ca",
   "metadata": {},
   "outputs": [],
   "source": [
    "GASTOS = GASTOS.sort_values('DATE', ascending=True)"
   ]
  },
  {
   "cell_type": "code",
   "execution_count": 168,
   "id": "10925758",
   "metadata": {},
   "outputs": [
    {
     "data": {
      "text/html": [
       "<div>\n",
       "<style scoped>\n",
       "    .dataframe tbody tr th:only-of-type {\n",
       "        vertical-align: middle;\n",
       "    }\n",
       "\n",
       "    .dataframe tbody tr th {\n",
       "        vertical-align: top;\n",
       "    }\n",
       "\n",
       "    .dataframe thead th {\n",
       "        text-align: right;\n",
       "    }\n",
       "</style>\n",
       "<table border=\"1\" class=\"dataframe\">\n",
       "  <thead>\n",
       "    <tr style=\"text-align: right;\">\n",
       "      <th></th>\n",
       "      <th>DATE</th>\n",
       "      <th>EXPENSE</th>\n",
       "      <th>AMOUNT</th>\n",
       "      <th>TYPE</th>\n",
       "    </tr>\n",
       "  </thead>\n",
       "  <tbody>\n",
       "    <tr>\n",
       "      <th>0</th>\n",
       "      <td>2023-04-01</td>\n",
       "      <td>SNACK</td>\n",
       "      <td>5.50</td>\n",
       "      <td>NO ESENCIAL</td>\n",
       "    </tr>\n",
       "    <tr>\n",
       "      <th>1</th>\n",
       "      <td>2023-04-01</td>\n",
       "      <td>TALLER</td>\n",
       "      <td>20.00</td>\n",
       "      <td>ESENCIAL</td>\n",
       "    </tr>\n",
       "    <tr>\n",
       "      <th>2</th>\n",
       "      <td>2023-04-02</td>\n",
       "      <td>SNACK</td>\n",
       "      <td>3.50</td>\n",
       "      <td>NO ESENCIAL</td>\n",
       "    </tr>\n",
       "    <tr>\n",
       "      <th>3</th>\n",
       "      <td>2023-04-02</td>\n",
       "      <td>OTROS</td>\n",
       "      <td>5.00</td>\n",
       "      <td>ESENCIAL</td>\n",
       "    </tr>\n",
       "    <tr>\n",
       "      <th>4</th>\n",
       "      <td>2023-04-02</td>\n",
       "      <td>GAS</td>\n",
       "      <td>10.00</td>\n",
       "      <td>ESENCIAL</td>\n",
       "    </tr>\n",
       "    <tr>\n",
       "      <th>...</th>\n",
       "      <td>...</td>\n",
       "      <td>...</td>\n",
       "      <td>...</td>\n",
       "      <td>...</td>\n",
       "    </tr>\n",
       "    <tr>\n",
       "      <th>87</th>\n",
       "      <td>2023-06-17</td>\n",
       "      <td>OTROS</td>\n",
       "      <td>20.00</td>\n",
       "      <td>NO ESENCIAL</td>\n",
       "    </tr>\n",
       "    <tr>\n",
       "      <th>88</th>\n",
       "      <td>2023-06-17</td>\n",
       "      <td>GAS</td>\n",
       "      <td>20.00</td>\n",
       "      <td>ESENCIAL</td>\n",
       "    </tr>\n",
       "    <tr>\n",
       "      <th>89</th>\n",
       "      <td>2023-06-17</td>\n",
       "      <td>SNACK</td>\n",
       "      <td>3.99</td>\n",
       "      <td>NO ESENCIAL</td>\n",
       "    </tr>\n",
       "    <tr>\n",
       "      <th>85</th>\n",
       "      <td>2023-06-18</td>\n",
       "      <td>SUPER</td>\n",
       "      <td>18.91</td>\n",
       "      <td>ESENCIAL</td>\n",
       "    </tr>\n",
       "    <tr>\n",
       "      <th>84</th>\n",
       "      <td>2023-06-18</td>\n",
       "      <td>SNACK</td>\n",
       "      <td>3.99</td>\n",
       "      <td>NO ESENCIAL</td>\n",
       "    </tr>\n",
       "  </tbody>\n",
       "</table>\n",
       "<p>94 rows × 4 columns</p>\n",
       "</div>"
      ],
      "text/plain": [
       "         DATE EXPENSE  AMOUNT         TYPE\n",
       "0  2023-04-01   SNACK    5.50  NO ESENCIAL\n",
       "1  2023-04-01  TALLER   20.00     ESENCIAL\n",
       "2  2023-04-02   SNACK    3.50  NO ESENCIAL\n",
       "3  2023-04-02   OTROS    5.00     ESENCIAL\n",
       "4  2023-04-02     GAS   10.00     ESENCIAL\n",
       "..        ...     ...     ...          ...\n",
       "87 2023-06-17   OTROS   20.00  NO ESENCIAL\n",
       "88 2023-06-17     GAS   20.00     ESENCIAL\n",
       "89 2023-06-17   SNACK    3.99  NO ESENCIAL\n",
       "85 2023-06-18   SUPER   18.91     ESENCIAL\n",
       "84 2023-06-18   SNACK    3.99  NO ESENCIAL\n",
       "\n",
       "[94 rows x 4 columns]"
      ]
     },
     "execution_count": 168,
     "metadata": {},
     "output_type": "execute_result"
    }
   ],
   "source": [
    "GASTOS"
   ]
  },
  {
   "cell_type": "code",
   "execution_count": 169,
   "id": "84ac7018",
   "metadata": {},
   "outputs": [
    {
     "data": {
      "text/html": [
       "<div>\n",
       "<style scoped>\n",
       "    .dataframe tbody tr th:only-of-type {\n",
       "        vertical-align: middle;\n",
       "    }\n",
       "\n",
       "    .dataframe tbody tr th {\n",
       "        vertical-align: top;\n",
       "    }\n",
       "\n",
       "    .dataframe thead th {\n",
       "        text-align: right;\n",
       "    }\n",
       "</style>\n",
       "<table border=\"1\" class=\"dataframe\">\n",
       "  <thead>\n",
       "    <tr style=\"text-align: right;\">\n",
       "      <th></th>\n",
       "      <th>AMOUNT</th>\n",
       "    </tr>\n",
       "    <tr>\n",
       "      <th>DATE</th>\n",
       "      <th></th>\n",
       "    </tr>\n",
       "  </thead>\n",
       "  <tbody>\n",
       "    <tr>\n",
       "      <th>2023-04-01</th>\n",
       "      <td>25.50</td>\n",
       "    </tr>\n",
       "    <tr>\n",
       "      <th>2023-04-02</th>\n",
       "      <td>18.50</td>\n",
       "    </tr>\n",
       "    <tr>\n",
       "      <th>2023-04-05</th>\n",
       "      <td>308.50</td>\n",
       "    </tr>\n",
       "    <tr>\n",
       "      <th>2023-04-06</th>\n",
       "      <td>43.98</td>\n",
       "    </tr>\n",
       "    <tr>\n",
       "      <th>2023-04-07</th>\n",
       "      <td>15.20</td>\n",
       "    </tr>\n",
       "    <tr>\n",
       "      <th>2023-04-09</th>\n",
       "      <td>11.18</td>\n",
       "    </tr>\n",
       "    <tr>\n",
       "      <th>2023-04-10</th>\n",
       "      <td>20.00</td>\n",
       "    </tr>\n",
       "    <tr>\n",
       "      <th>2023-04-11</th>\n",
       "      <td>32.09</td>\n",
       "    </tr>\n",
       "    <tr>\n",
       "      <th>2023-04-12</th>\n",
       "      <td>33.50</td>\n",
       "    </tr>\n",
       "    <tr>\n",
       "      <th>2023-04-14</th>\n",
       "      <td>161.00</td>\n",
       "    </tr>\n",
       "    <tr>\n",
       "      <th>2023-04-15</th>\n",
       "      <td>36.19</td>\n",
       "    </tr>\n",
       "    <tr>\n",
       "      <th>2023-04-20</th>\n",
       "      <td>7.00</td>\n",
       "    </tr>\n",
       "    <tr>\n",
       "      <th>2023-04-21</th>\n",
       "      <td>20.00</td>\n",
       "    </tr>\n",
       "    <tr>\n",
       "      <th>2023-04-23</th>\n",
       "      <td>43.00</td>\n",
       "    </tr>\n",
       "    <tr>\n",
       "      <th>2023-04-24</th>\n",
       "      <td>4.95</td>\n",
       "    </tr>\n",
       "    <tr>\n",
       "      <th>2023-04-25</th>\n",
       "      <td>3.50</td>\n",
       "    </tr>\n",
       "    <tr>\n",
       "      <th>2023-04-26</th>\n",
       "      <td>69.84</td>\n",
       "    </tr>\n",
       "    <tr>\n",
       "      <th>2023-04-30</th>\n",
       "      <td>22.00</td>\n",
       "    </tr>\n",
       "    <tr>\n",
       "      <th>2023-05-04</th>\n",
       "      <td>32.09</td>\n",
       "    </tr>\n",
       "    <tr>\n",
       "      <th>2023-05-05</th>\n",
       "      <td>3.50</td>\n",
       "    </tr>\n",
       "    <tr>\n",
       "      <th>2023-05-08</th>\n",
       "      <td>4.99</td>\n",
       "    </tr>\n",
       "    <tr>\n",
       "      <th>2023-05-09</th>\n",
       "      <td>52.77</td>\n",
       "    </tr>\n",
       "    <tr>\n",
       "      <th>2023-05-11</th>\n",
       "      <td>10.30</td>\n",
       "    </tr>\n",
       "    <tr>\n",
       "      <th>2023-05-12</th>\n",
       "      <td>32.00</td>\n",
       "    </tr>\n",
       "    <tr>\n",
       "      <th>2023-05-13</th>\n",
       "      <td>11.82</td>\n",
       "    </tr>\n",
       "    <tr>\n",
       "      <th>2023-05-14</th>\n",
       "      <td>7.10</td>\n",
       "    </tr>\n",
       "    <tr>\n",
       "      <th>2023-05-15</th>\n",
       "      <td>19.99</td>\n",
       "    </tr>\n",
       "    <tr>\n",
       "      <th>2023-05-16</th>\n",
       "      <td>374.79</td>\n",
       "    </tr>\n",
       "    <tr>\n",
       "      <th>2023-05-17</th>\n",
       "      <td>24.69</td>\n",
       "    </tr>\n",
       "    <tr>\n",
       "      <th>2023-05-18</th>\n",
       "      <td>12.00</td>\n",
       "    </tr>\n",
       "    <tr>\n",
       "      <th>2023-05-19</th>\n",
       "      <td>9.19</td>\n",
       "    </tr>\n",
       "    <tr>\n",
       "      <th>2023-05-20</th>\n",
       "      <td>116.61</td>\n",
       "    </tr>\n",
       "    <tr>\n",
       "      <th>2023-05-21</th>\n",
       "      <td>2.00</td>\n",
       "    </tr>\n",
       "    <tr>\n",
       "      <th>2023-05-22</th>\n",
       "      <td>29.93</td>\n",
       "    </tr>\n",
       "    <tr>\n",
       "      <th>2023-05-24</th>\n",
       "      <td>32.99</td>\n",
       "    </tr>\n",
       "    <tr>\n",
       "      <th>2023-05-26</th>\n",
       "      <td>9.03</td>\n",
       "    </tr>\n",
       "    <tr>\n",
       "      <th>2023-05-30</th>\n",
       "      <td>20.00</td>\n",
       "    </tr>\n",
       "    <tr>\n",
       "      <th>2023-05-31</th>\n",
       "      <td>6.00</td>\n",
       "    </tr>\n",
       "    <tr>\n",
       "      <th>2023-06-01</th>\n",
       "      <td>5.00</td>\n",
       "    </tr>\n",
       "    <tr>\n",
       "      <th>2023-06-06</th>\n",
       "      <td>114.67</td>\n",
       "    </tr>\n",
       "    <tr>\n",
       "      <th>2023-06-07</th>\n",
       "      <td>3.50</td>\n",
       "    </tr>\n",
       "    <tr>\n",
       "      <th>2023-06-08</th>\n",
       "      <td>53.99</td>\n",
       "    </tr>\n",
       "    <tr>\n",
       "      <th>2023-06-09</th>\n",
       "      <td>30.90</td>\n",
       "    </tr>\n",
       "    <tr>\n",
       "      <th>2023-06-10</th>\n",
       "      <td>55.16</td>\n",
       "    </tr>\n",
       "    <tr>\n",
       "      <th>2023-06-13</th>\n",
       "      <td>2.00</td>\n",
       "    </tr>\n",
       "    <tr>\n",
       "      <th>2023-06-15</th>\n",
       "      <td>14.70</td>\n",
       "    </tr>\n",
       "    <tr>\n",
       "      <th>2023-06-16</th>\n",
       "      <td>2.00</td>\n",
       "    </tr>\n",
       "    <tr>\n",
       "      <th>2023-06-17</th>\n",
       "      <td>53.62</td>\n",
       "    </tr>\n",
       "    <tr>\n",
       "      <th>2023-06-18</th>\n",
       "      <td>22.90</td>\n",
       "    </tr>\n",
       "  </tbody>\n",
       "</table>\n",
       "</div>"
      ],
      "text/plain": [
       "            AMOUNT\n",
       "DATE              \n",
       "2023-04-01   25.50\n",
       "2023-04-02   18.50\n",
       "2023-04-05  308.50\n",
       "2023-04-06   43.98\n",
       "2023-04-07   15.20\n",
       "2023-04-09   11.18\n",
       "2023-04-10   20.00\n",
       "2023-04-11   32.09\n",
       "2023-04-12   33.50\n",
       "2023-04-14  161.00\n",
       "2023-04-15   36.19\n",
       "2023-04-20    7.00\n",
       "2023-04-21   20.00\n",
       "2023-04-23   43.00\n",
       "2023-04-24    4.95\n",
       "2023-04-25    3.50\n",
       "2023-04-26   69.84\n",
       "2023-04-30   22.00\n",
       "2023-05-04   32.09\n",
       "2023-05-05    3.50\n",
       "2023-05-08    4.99\n",
       "2023-05-09   52.77\n",
       "2023-05-11   10.30\n",
       "2023-05-12   32.00\n",
       "2023-05-13   11.82\n",
       "2023-05-14    7.10\n",
       "2023-05-15   19.99\n",
       "2023-05-16  374.79\n",
       "2023-05-17   24.69\n",
       "2023-05-18   12.00\n",
       "2023-05-19    9.19\n",
       "2023-05-20  116.61\n",
       "2023-05-21    2.00\n",
       "2023-05-22   29.93\n",
       "2023-05-24   32.99\n",
       "2023-05-26    9.03\n",
       "2023-05-30   20.00\n",
       "2023-05-31    6.00\n",
       "2023-06-01    5.00\n",
       "2023-06-06  114.67\n",
       "2023-06-07    3.50\n",
       "2023-06-08   53.99\n",
       "2023-06-09   30.90\n",
       "2023-06-10   55.16\n",
       "2023-06-13    2.00\n",
       "2023-06-15   14.70\n",
       "2023-06-16    2.00\n",
       "2023-06-17   53.62\n",
       "2023-06-18   22.90"
      ]
     },
     "execution_count": 169,
     "metadata": {},
     "output_type": "execute_result"
    }
   ],
   "source": [
    "GASTOSPORDIA = GASTOS.groupby('DATE').agg({'AMOUNT': 'sum'})\n",
    "GASTOSPORDIA"
   ]
  },
  {
   "cell_type": "markdown",
   "id": "3eb864a8",
   "metadata": {},
   "source": [
    "# GRAFICA 2: GASTOS POR DIA EN EL TIEMPO"
   ]
  },
  {
   "cell_type": "code",
   "execution_count": 170,
   "id": "0cd08d97",
   "metadata": {},
   "outputs": [
    {
     "data": {
      "image/png": "[encoded data removed]",
      "text/plain": [
       "<Figure size 640x480 with 1 Axes>"
      ]
     },
     "metadata": {},
     "output_type": "display_data"
    }
   ],
   "source": [
    "import matplotlib.pyplot as plt\n",
    "plt.plot(GASTOSPORDIA.index, GASTOSPORDIA['AMOUNT'])\n",
    "\n",
    "# Personalizar el gráfico\n",
    "plt.title('Gastos en el Tiempo')\n",
    "plt.xticks(rotation='vertical')\n",
    "plt.xlabel('Fecha')\n",
    "plt.ylabel('Gastos')\n",
    "plt.style.use('ggplot')\n",
    "# Mostrar el gráfico\n",
    "plt.show()\n"
   ]
  },
  {
   "cell_type": "markdown",
   "id": "b5a00bc7",
   "metadata": {},
   "source": [
    "# GRÁFICO 3 = GASTOS POR MES"
   ]
  },
  {
   "cell_type": "code",
   "execution_count": 171,
   "id": "0f65d2c0",
   "metadata": {},
   "outputs": [],
   "source": [
    "GASTOSPORMES = GASTOS.groupby(pd.Grouper(key='DATE', freq='M'))['AMOUNT'].sum()"
   ]
  },
  {
   "cell_type": "code",
   "execution_count": 172,
   "id": "2e87ade8",
   "metadata": {},
   "outputs": [
    {
     "data": {
      "text/html": [
       "<div>\n",
       "<style scoped>\n",
       "    .dataframe tbody tr th:only-of-type {\n",
       "        vertical-align: middle;\n",
       "    }\n",
       "\n",
       "    .dataframe tbody tr th {\n",
       "        vertical-align: top;\n",
       "    }\n",
       "\n",
       "    .dataframe thead th {\n",
       "        text-align: right;\n",
       "    }\n",
       "</style>\n",
       "<table border=\"1\" class=\"dataframe\">\n",
       "  <thead>\n",
       "    <tr style=\"text-align: right;\">\n",
       "      <th></th>\n",
       "      <th>DATE</th>\n",
       "      <th>AMOUNT</th>\n",
       "    </tr>\n",
       "  </thead>\n",
       "  <tbody>\n",
       "    <tr>\n",
       "      <th>0</th>\n",
       "      <td>2023-04-30</td>\n",
       "      <td>875.93</td>\n",
       "    </tr>\n",
       "    <tr>\n",
       "      <th>1</th>\n",
       "      <td>2023-05-31</td>\n",
       "      <td>811.79</td>\n",
       "    </tr>\n",
       "    <tr>\n",
       "      <th>2</th>\n",
       "      <td>2023-06-30</td>\n",
       "      <td>358.44</td>\n",
       "    </tr>\n",
       "  </tbody>\n",
       "</table>\n",
       "</div>"
      ],
      "text/plain": [
       "        DATE  AMOUNT\n",
       "0 2023-04-30  875.93\n",
       "1 2023-05-31  811.79\n",
       "2 2023-06-30  358.44"
      ]
     },
     "execution_count": 172,
     "metadata": {},
     "output_type": "execute_result"
    }
   ],
   "source": [
    "GASTOSPORMES = GASTOSPORMES.to_frame().reset_index() ##Convertiendo a DF para análisis\n",
    "GASTOSPORMES"
   ]
  },
  {
   "cell_type": "code",
   "execution_count": 173,
   "id": "3592bcbd",
   "metadata": {},
   "outputs": [],
   "source": [
    "import seaborn as sns"
   ]
  },
  {
   "cell_type": "code",
   "execution_count": 174,
   "id": "624a6d49",
   "metadata": {},
   "outputs": [],
   "source": [
    "#HACER MAPPING DE MESES PARA FACILITAR ANÁLISIS\n",
    "MESES_MAPPING = {'2023-04-30':'Abril','2023-05-31':'Mayo','2023-06-30':'Junio'}"
   ]
  },
  {
   "cell_type": "code",
   "execution_count": 175,
   "id": "ceb81390",
   "metadata": {},
   "outputs": [
    {
     "name": "stdout",
     "output_type": "stream",
     "text": [
      "<class 'pandas.core.frame.DataFrame'>\n",
      "RangeIndex: 3 entries, 0 to 2\n",
      "Data columns (total 2 columns):\n",
      " #   Column  Non-Null Count  Dtype         \n",
      "---  ------  --------------  -----         \n",
      " 0   DATE    3 non-null      datetime64[ns]\n",
      " 1   AMOUNT  3 non-null      float64       \n",
      "dtypes: datetime64[ns](1), float64(1)\n",
      "memory usage: 176.0 bytes\n"
     ]
    }
   ],
   "source": [
    "GASTOSPORMES.info()"
   ]
  },
  {
   "cell_type": "code",
   "execution_count": 176,
   "id": "6091e801",
   "metadata": {},
   "outputs": [
    {
     "data": {
      "text/html": [
       "<div>\n",
       "<style scoped>\n",
       "    .dataframe tbody tr th:only-of-type {\n",
       "        vertical-align: middle;\n",
       "    }\n",
       "\n",
       "    .dataframe tbody tr th {\n",
       "        vertical-align: top;\n",
       "    }\n",
       "\n",
       "    .dataframe thead th {\n",
       "        text-align: right;\n",
       "    }\n",
       "</style>\n",
       "<table border=\"1\" class=\"dataframe\">\n",
       "  <thead>\n",
       "    <tr style=\"text-align: right;\">\n",
       "      <th></th>\n",
       "      <th>DATE</th>\n",
       "      <th>AMOUNT</th>\n",
       "      <th>MS</th>\n",
       "    </tr>\n",
       "  </thead>\n",
       "  <tbody>\n",
       "    <tr>\n",
       "      <th>0</th>\n",
       "      <td>2023-04-30</td>\n",
       "      <td>875.93</td>\n",
       "      <td>April</td>\n",
       "    </tr>\n",
       "    <tr>\n",
       "      <th>1</th>\n",
       "      <td>2023-05-31</td>\n",
       "      <td>811.79</td>\n",
       "      <td>May</td>\n",
       "    </tr>\n",
       "    <tr>\n",
       "      <th>2</th>\n",
       "      <td>2023-06-30</td>\n",
       "      <td>358.44</td>\n",
       "      <td>June</td>\n",
       "    </tr>\n",
       "  </tbody>\n",
       "</table>\n",
       "</div>"
      ],
      "text/plain": [
       "        DATE  AMOUNT     MS\n",
       "0 2023-04-30  875.93  April\n",
       "1 2023-05-31  811.79    May\n",
       "2 2023-06-30  358.44   June"
      ]
     },
     "execution_count": 176,
     "metadata": {},
     "output_type": "execute_result"
    }
   ],
   "source": [
    "#AGRANDO COLUMNA DE MES\n",
    "GASTOSPORMES['MS'] = GASTOSPORMES['DATE'].dt.strftime('%B')\n",
    "GASTOSPORMES"
   ]
  },
  {
   "cell_type": "code",
   "execution_count": 177,
   "id": "68c689a8",
   "metadata": {},
   "outputs": [
    {
     "data": {
      "image/png": "[encoded data removed]",
      "text/plain": [
       "<Figure size 640x480 with 1 Axes>"
      ]
     },
     "metadata": {},
     "output_type": "display_data"
    }
   ],
   "source": [
    "sns.barplot(x='MS', y='AMOUNT', data=GASTOSPORMES)\n",
    "\n",
    "# Añadir etiquetas a los ejes\n",
    "plt.xlabel('Mes')\n",
    "plt.ylabel('Gastos')\n",
    "plt.xticks(rotation=45)\n",
    "# Mostrar el gráfico\n",
    "plt.show()"
   ]
  },
  {
   "cell_type": "code",
   "execution_count": 178,
   "id": "26f67932",
   "metadata": {},
   "outputs": [
    {
     "data": {
      "text/html": [
       "<div>\n",
       "<style scoped>\n",
       "    .dataframe tbody tr th:only-of-type {\n",
       "        vertical-align: middle;\n",
       "    }\n",
       "\n",
       "    .dataframe tbody tr th {\n",
       "        vertical-align: top;\n",
       "    }\n",
       "\n",
       "    .dataframe thead th {\n",
       "        text-align: right;\n",
       "    }\n",
       "</style>\n",
       "<table border=\"1\" class=\"dataframe\">\n",
       "  <thead>\n",
       "    <tr style=\"text-align: right;\">\n",
       "      <th></th>\n",
       "      <th>AMOUNT</th>\n",
       "    </tr>\n",
       "  </thead>\n",
       "  <tbody>\n",
       "    <tr>\n",
       "      <th>count</th>\n",
       "      <td>94.000000</td>\n",
       "    </tr>\n",
       "    <tr>\n",
       "      <th>mean</th>\n",
       "      <td>21.767660</td>\n",
       "    </tr>\n",
       "    <tr>\n",
       "      <th>std</th>\n",
       "      <td>46.833612</td>\n",
       "    </tr>\n",
       "    <tr>\n",
       "      <th>min</th>\n",
       "      <td>0.990000</td>\n",
       "    </tr>\n",
       "    <tr>\n",
       "      <th>25%</th>\n",
       "      <td>3.990000</td>\n",
       "    </tr>\n",
       "    <tr>\n",
       "      <th>50%</th>\n",
       "      <td>8.280000</td>\n",
       "    </tr>\n",
       "    <tr>\n",
       "      <th>75%</th>\n",
       "      <td>20.000000</td>\n",
       "    </tr>\n",
       "    <tr>\n",
       "      <th>max</th>\n",
       "      <td>318.000000</td>\n",
       "    </tr>\n",
       "  </tbody>\n",
       "</table>\n",
       "</div>"
      ],
      "text/plain": [
       "           AMOUNT\n",
       "count   94.000000\n",
       "mean    21.767660\n",
       "std     46.833612\n",
       "min      0.990000\n",
       "25%      3.990000\n",
       "50%      8.280000\n",
       "75%     20.000000\n",
       "max    318.000000"
      ]
     },
     "execution_count": 178,
     "metadata": {},
     "output_type": "execute_result"
    }
   ],
   "source": [
    "GASTOS.describe()"
   ]
  },
  {
   "cell_type": "markdown",
   "id": "ab19ff78",
   "metadata": {},
   "source": [
    "# OTROS ANÁLISIS COMO PROMEDIO Y MODA \n"
   ]
  },
  {
   "cell_type": "code",
   "execution_count": 179,
   "id": "451e1909",
   "metadata": {},
   "outputs": [
    {
     "data": {
      "text/plain": [
       "21.767659574468084"
      ]
     },
     "execution_count": 179,
     "metadata": {},
     "output_type": "execute_result"
    }
   ],
   "source": [
    "GASTOS['AMOUNT'].mean()\n"
   ]
  },
  {
   "cell_type": "code",
   "execution_count": 180,
   "id": "b46de62d",
   "metadata": {},
   "outputs": [
    {
     "data": {
      "text/plain": [
       "0    SNACK\n",
       "Name: EXPENSE, dtype: object"
      ]
     },
     "execution_count": 180,
     "metadata": {},
     "output_type": "execute_result"
    }
   ],
   "source": [
    "GASTOS['EXPENSE'].mode()"
   ]
  },
  {
   "cell_type": "code",
   "execution_count": 181,
   "id": "fb0ea7ba",
   "metadata": {},
   "outputs": [
    {
     "data": {
      "text/plain": [
       "0    3.5\n",
       "Name: AMOUNT, dtype: float64"
      ]
     },
     "execution_count": 181,
     "metadata": {},
     "output_type": "execute_result"
    }
   ],
   "source": [
    "GASTOS['AMOUNT'].mode()"
   ]
  },
  {
   "cell_type": "markdown",
   "id": "53871568",
   "metadata": {},
   "source": [
    "# GRAFICA 4: CHART PIE DE GASTOS"
   ]
  },
  {
   "cell_type": "code",
   "execution_count": 182,
   "id": "6a468d13",
   "metadata": {},
   "outputs": [],
   "source": [
    "import seaborn as sns"
   ]
  },
  {
   "cell_type": "code",
   "execution_count": 251,
   "id": "5d937bb7",
   "metadata": {},
   "outputs": [
    {
     "data": {
      "text/plain": [
       "EXPENSE\n",
       "CEJAS         16.00\n",
       "CINE           7.25\n",
       "COMIDA         4.95\n",
       "GAS          150.00\n",
       "GYM           32.09\n",
       "LUZ          100.00\n",
       "MATRICULA     12.00\n",
       "NETFLIX        4.99\n",
       "OTROS        219.67\n",
       "PLAN TIGO     21.19\n",
       "REST.        262.43\n",
       "SALON         48.00\n",
       "SHOPPING     409.37\n",
       "SMARFIT       64.18\n",
       "SNACK        100.69\n",
       "SPOTIFY       11.98\n",
       "SUPER        159.79\n",
       "TALLER       340.00\n",
       "TIGO          21.19\n",
       "UBER          28.65\n",
       "ZAPATOS       31.74\n",
       "Name: AMOUNT, dtype: float64"
      ]
     },
     "execution_count": 251,
     "metadata": {},
     "output_type": "execute_result"
    }
   ],
   "source": [
    "EXPENSES_SUM = GASTOS.groupby(['EXPENSE']).sum(numeric_only=True)\n",
    "EXPENSES_SUM['AMOUNT']"
   ]
  },
  {
   "cell_type": "code",
   "execution_count": 184,
   "id": "5b867d4d",
   "metadata": {},
   "outputs": [
    {
     "data": {
      "image/png": "[encoded data removed]",
      "text/plain": [
       "<Figure size 1500x1000 with 1 Axes>"
      ]
     },
     "metadata": {},
     "output_type": "display_data"
    }
   ],
   "source": [
    "# declaring data\n",
    "data = EXPENSES_SUM['AMOUNT']\n",
    "keys = EXPENSES_SUM.index\n",
    "# define Seaborn color palette to use\n",
    "palette_color = sns.color_palette('flare')\n",
    "# plotting data on chart\n",
    "plt.figure(figsize=(15, 10))\n",
    "plt.pie(data, labels=keys, colors=palette_color, autopct='%.0f%%')\n",
    "  # displaying chart\n",
    "plt.show()"
   ]
  },
  {
   "cell_type": "markdown",
   "id": "30fdecf9",
   "metadata": {},
   "source": [
    "# OTROS DATOS IMPORTANTES"
   ]
  },
  {
   "cell_type": "markdown",
   "id": "1a00fa90",
   "metadata": {},
   "source": [
    "Vamos a realizar el análisis de algunos gastos importantes y luego graficarlos.\n",
    "Vamos a sacar la frencuencia de gastos: SNACK, SUPER, GAS, REST.\n",
    "Luego los graficaremos."
   ]
  },
  {
   "cell_type": "code",
   "execution_count": 185,
   "id": "a3a98f24",
   "metadata": {},
   "outputs": [
    {
     "data": {
      "text/html": [
       "<div>\n",
       "<style scoped>\n",
       "    .dataframe tbody tr th:only-of-type {\n",
       "        vertical-align: middle;\n",
       "    }\n",
       "\n",
       "    .dataframe tbody tr th {\n",
       "        vertical-align: top;\n",
       "    }\n",
       "\n",
       "    .dataframe thead th {\n",
       "        text-align: right;\n",
       "    }\n",
       "</style>\n",
       "<table border=\"1\" class=\"dataframe\">\n",
       "  <thead>\n",
       "    <tr style=\"text-align: right;\">\n",
       "      <th></th>\n",
       "      <th>AMOUNT</th>\n",
       "    </tr>\n",
       "  </thead>\n",
       "  <tbody>\n",
       "    <tr>\n",
       "      <th>count</th>\n",
       "      <td>94.000000</td>\n",
       "    </tr>\n",
       "    <tr>\n",
       "      <th>mean</th>\n",
       "      <td>21.767660</td>\n",
       "    </tr>\n",
       "    <tr>\n",
       "      <th>std</th>\n",
       "      <td>46.833612</td>\n",
       "    </tr>\n",
       "    <tr>\n",
       "      <th>min</th>\n",
       "      <td>0.990000</td>\n",
       "    </tr>\n",
       "    <tr>\n",
       "      <th>25%</th>\n",
       "      <td>3.990000</td>\n",
       "    </tr>\n",
       "    <tr>\n",
       "      <th>50%</th>\n",
       "      <td>8.280000</td>\n",
       "    </tr>\n",
       "    <tr>\n",
       "      <th>75%</th>\n",
       "      <td>20.000000</td>\n",
       "    </tr>\n",
       "    <tr>\n",
       "      <th>max</th>\n",
       "      <td>318.000000</td>\n",
       "    </tr>\n",
       "  </tbody>\n",
       "</table>\n",
       "</div>"
      ],
      "text/plain": [
       "           AMOUNT\n",
       "count   94.000000\n",
       "mean    21.767660\n",
       "std     46.833612\n",
       "min      0.990000\n",
       "25%      3.990000\n",
       "50%      8.280000\n",
       "75%     20.000000\n",
       "max    318.000000"
      ]
     },
     "execution_count": 185,
     "metadata": {},
     "output_type": "execute_result"
    }
   ],
   "source": [
    "GASTOS.describe()"
   ]
  },
  {
   "cell_type": "code",
   "execution_count": 186,
   "id": "455850b2",
   "metadata": {},
   "outputs": [],
   "source": [
    "GASFILTRO = GASTOS[GASTOS['EXPENSE'] == 'GAS']\n",
    "FRECUENCIAGAS = GASFILTRO['DATE'].diff()\n",
    "SNACKFILTRO = GASTOS[GASTOS['EXPENSE'] == 'SNACK']\n",
    "FRECUENCIASNACK = SNACKFILTRO['DATE'].diff()\n",
    "SUPERFILTRO = GASTOS[GASTOS['EXPENSE'] == 'SUPER']\n",
    "FRECUENCIASUPER = SUPERFILTRO['DATE'].diff()"
   ]
  },
  {
   "cell_type": "code",
   "execution_count": 187,
   "id": "ff98ede5",
   "metadata": {},
   "outputs": [
    {
     "data": {
      "text/plain": [
       "4        NaT\n",
       "8     4 days\n",
       "15    4 days\n",
       "27   11 days\n",
       "41   24 days\n",
       "63    7 days\n",
       "68    8 days\n",
       "76    9 days\n",
       "88    9 days\n",
       "Name: DATE, dtype: timedelta64[ns]"
      ]
     },
     "execution_count": 187,
     "metadata": {},
     "output_type": "execute_result"
    }
   ],
   "source": [
    "FRECUENCIAGAS"
   ]
  },
  {
   "cell_type": "code",
   "execution_count": 188,
   "id": "efdf2dc6",
   "metadata": {},
   "outputs": [
    {
     "data": {
      "text/plain": [
       "11       NaT\n",
       "12    1 days\n",
       "35   32 days\n",
       "60   15 days\n",
       "77   16 days\n",
       "85    9 days\n",
       "Name: DATE, dtype: timedelta64[ns]"
      ]
     },
     "execution_count": 188,
     "metadata": {},
     "output_type": "execute_result"
    }
   ],
   "source": [
    "FRECUENCIASUPER"
   ]
  },
  {
   "cell_type": "code",
   "execution_count": 189,
   "id": "5e16c55b",
   "metadata": {},
   "outputs": [
    {
     "data": {
      "text/plain": [
       "0        NaT\n",
       "2     1 days\n",
       "5     3 days\n",
       "7     1 days\n",
       "14    3 days\n",
       "20    5 days\n",
       "26    6 days\n",
       "30    5 days\n",
       "31    1 days\n",
       "50    9 days\n",
       "47    3 days\n",
       "52    3 days\n",
       "45    3 days\n",
       "49    2 days\n",
       "51    1 days\n",
       "55    4 days\n",
       "64    1 days\n",
       "54    0 days\n",
       "61    2 days\n",
       "66    2 days\n",
       "80   12 days\n",
       "78    1 days\n",
       "83    5 days\n",
       "92    2 days\n",
       "90    1 days\n",
       "89    1 days\n",
       "84    1 days\n",
       "Name: DATE, dtype: timedelta64[ns]"
      ]
     },
     "execution_count": 189,
     "metadata": {},
     "output_type": "execute_result"
    }
   ],
   "source": [
    "FRECUENCIASNACK"
   ]
  },
  {
   "cell_type": "code",
   "execution_count": 190,
   "id": "070d78c5",
   "metadata": {},
   "outputs": [
    {
     "data": {
      "text/plain": [
       "0   1 days\n",
       "Name: DATE, dtype: timedelta64[ns]"
      ]
     },
     "execution_count": 190,
     "metadata": {},
     "output_type": "execute_result"
    }
   ],
   "source": [
    "FRECUENCIASNACK.mode()"
   ]
  },
  {
   "cell_type": "markdown",
   "id": "6231b5e3",
   "metadata": {},
   "source": [
    "Como resultado, la moda en la frecuencia de gastar en snack es de 1 día.\n",
    "Es decir, se gasta en SNACK casi diariamente."
   ]
  },
  {
   "cell_type": "code",
   "execution_count": 191,
   "id": "63b23280",
   "metadata": {},
   "outputs": [
    {
     "data": {
      "text/plain": [
       "0    1 days\n",
       "1    9 days\n",
       "2   15 days\n",
       "3   16 days\n",
       "4   32 days\n",
       "Name: DATE, dtype: timedelta64[ns]"
      ]
     },
     "execution_count": 191,
     "metadata": {},
     "output_type": "execute_result"
    }
   ],
   "source": [
    "FRECUENCIASUPER.mode()"
   ]
  },
  {
   "cell_type": "markdown",
   "id": "c9c10a8c",
   "metadata": {},
   "source": [
    "Podemos deducir que no hay una tendencia definida en los datos en cuanto algasto \"SUPER\""
   ]
  },
  {
   "cell_type": "code",
   "execution_count": 192,
   "id": "1e6030f4",
   "metadata": {},
   "outputs": [
    {
     "data": {
      "text/html": [
       "<div>\n",
       "<style scoped>\n",
       "    .dataframe tbody tr th:only-of-type {\n",
       "        vertical-align: middle;\n",
       "    }\n",
       "\n",
       "    .dataframe tbody tr th {\n",
       "        vertical-align: top;\n",
       "    }\n",
       "\n",
       "    .dataframe thead th {\n",
       "        text-align: right;\n",
       "    }\n",
       "</style>\n",
       "<table border=\"1\" class=\"dataframe\">\n",
       "  <thead>\n",
       "    <tr style=\"text-align: right;\">\n",
       "      <th></th>\n",
       "      <th>DATE</th>\n",
       "      <th>EXPENSE</th>\n",
       "      <th>AMOUNT</th>\n",
       "      <th>TYPE</th>\n",
       "      <th>TIPO</th>\n",
       "    </tr>\n",
       "  </thead>\n",
       "  <tbody>\n",
       "    <tr>\n",
       "      <th>0</th>\n",
       "      <td>2023-04-01</td>\n",
       "      <td>SNACK</td>\n",
       "      <td>5.50</td>\n",
       "      <td>NO ESENCIAL</td>\n",
       "      <td>0</td>\n",
       "    </tr>\n",
       "    <tr>\n",
       "      <th>1</th>\n",
       "      <td>2023-04-01</td>\n",
       "      <td>TALLER</td>\n",
       "      <td>20.00</td>\n",
       "      <td>ESENCIAL</td>\n",
       "      <td>1</td>\n",
       "    </tr>\n",
       "    <tr>\n",
       "      <th>2</th>\n",
       "      <td>2023-04-02</td>\n",
       "      <td>SNACK</td>\n",
       "      <td>3.50</td>\n",
       "      <td>NO ESENCIAL</td>\n",
       "      <td>0</td>\n",
       "    </tr>\n",
       "    <tr>\n",
       "      <th>3</th>\n",
       "      <td>2023-04-02</td>\n",
       "      <td>OTROS</td>\n",
       "      <td>5.00</td>\n",
       "      <td>ESENCIAL</td>\n",
       "      <td>1</td>\n",
       "    </tr>\n",
       "    <tr>\n",
       "      <th>4</th>\n",
       "      <td>2023-04-02</td>\n",
       "      <td>GAS</td>\n",
       "      <td>10.00</td>\n",
       "      <td>ESENCIAL</td>\n",
       "      <td>1</td>\n",
       "    </tr>\n",
       "    <tr>\n",
       "      <th>...</th>\n",
       "      <td>...</td>\n",
       "      <td>...</td>\n",
       "      <td>...</td>\n",
       "      <td>...</td>\n",
       "      <td>...</td>\n",
       "    </tr>\n",
       "    <tr>\n",
       "      <th>87</th>\n",
       "      <td>2023-06-17</td>\n",
       "      <td>OTROS</td>\n",
       "      <td>20.00</td>\n",
       "      <td>NO ESENCIAL</td>\n",
       "      <td>0</td>\n",
       "    </tr>\n",
       "    <tr>\n",
       "      <th>88</th>\n",
       "      <td>2023-06-17</td>\n",
       "      <td>GAS</td>\n",
       "      <td>20.00</td>\n",
       "      <td>ESENCIAL</td>\n",
       "      <td>1</td>\n",
       "    </tr>\n",
       "    <tr>\n",
       "      <th>89</th>\n",
       "      <td>2023-06-17</td>\n",
       "      <td>SNACK</td>\n",
       "      <td>3.99</td>\n",
       "      <td>NO ESENCIAL</td>\n",
       "      <td>0</td>\n",
       "    </tr>\n",
       "    <tr>\n",
       "      <th>85</th>\n",
       "      <td>2023-06-18</td>\n",
       "      <td>SUPER</td>\n",
       "      <td>18.91</td>\n",
       "      <td>ESENCIAL</td>\n",
       "      <td>1</td>\n",
       "    </tr>\n",
       "    <tr>\n",
       "      <th>84</th>\n",
       "      <td>2023-06-18</td>\n",
       "      <td>SNACK</td>\n",
       "      <td>3.99</td>\n",
       "      <td>NO ESENCIAL</td>\n",
       "      <td>0</td>\n",
       "    </tr>\n",
       "  </tbody>\n",
       "</table>\n",
       "<p>94 rows × 5 columns</p>\n",
       "</div>"
      ],
      "text/plain": [
       "         DATE EXPENSE  AMOUNT         TYPE  TIPO\n",
       "0  2023-04-01   SNACK    5.50  NO ESENCIAL     0\n",
       "1  2023-04-01  TALLER   20.00     ESENCIAL     1\n",
       "2  2023-04-02   SNACK    3.50  NO ESENCIAL     0\n",
       "3  2023-04-02   OTROS    5.00     ESENCIAL     1\n",
       "4  2023-04-02     GAS   10.00     ESENCIAL     1\n",
       "..        ...     ...     ...          ...   ...\n",
       "87 2023-06-17   OTROS   20.00  NO ESENCIAL     0\n",
       "88 2023-06-17     GAS   20.00     ESENCIAL     1\n",
       "89 2023-06-17   SNACK    3.99  NO ESENCIAL     0\n",
       "85 2023-06-18   SUPER   18.91     ESENCIAL     1\n",
       "84 2023-06-18   SNACK    3.99  NO ESENCIAL     0\n",
       "\n",
       "[94 rows x 5 columns]"
      ]
     },
     "execution_count": 192,
     "metadata": {},
     "output_type": "execute_result"
    }
   ],
   "source": [
    "mapping = {'ESENCIAL': 1, 'NO ESENCIAL': 0}\n",
    "GASTOS['TIPO'] = GASTOS['TYPE'].map(mapping)\n",
    "GASTOS"
   ]
  },
  {
   "cell_type": "markdown",
   "id": "99319fff",
   "metadata": {},
   "source": [
    "# Gráfico 5: Dispersión Semanal "
   ]
  },
  {
   "cell_type": "code",
   "execution_count": 193,
   "id": "09ba62a3",
   "metadata": {},
   "outputs": [],
   "source": [
    "#GRAFICO DE DISPERSION PARA EVALUAR TENDENCIAS\n",
    "FECHAS = WEEKEXPENSES.index\n",
    "GASTOS_SEMANAL = WEEKEXPENSES['AMOUNT']\n",
    "FECHAS2 = GASTOS['DATE']\n",
    "GASTOS_DIARIOS = GASTOS['AMOUNT']"
   ]
  },
  {
   "cell_type": "code",
   "execution_count": 194,
   "id": "8d4bcbb6",
   "metadata": {},
   "outputs": [
    {
     "data": {
      "text/plain": [
       "<function matplotlib.pyplot.show(close=None, block=None)>"
      ]
     },
     "execution_count": 194,
     "metadata": {},
     "output_type": "execute_result"
    },
    {
     "data": {
      "image/png": "[encoded data removed]",
      "text/plain": [
       "<Figure size 640x480 with 1 Axes>"
      ]
     },
     "metadata": {},
     "output_type": "display_data"
    }
   ],
   "source": [
    "plt.scatter(FECHAS, GASTOS_SEMANAL)\n",
    "plt.show"
   ]
  },
  {
   "cell_type": "markdown",
   "id": "58573531",
   "metadata": {},
   "source": [
    "# Gráfico 6: Dispersión de Gastos Diarios"
   ]
  },
  {
   "cell_type": "code",
   "execution_count": 195,
   "id": "48abda52",
   "metadata": {
    "scrolled": true
   },
   "outputs": [
    {
     "data": {
      "text/plain": [
       "<function matplotlib.pyplot.show(close=None, block=None)>"
      ]
     },
     "execution_count": 195,
     "metadata": {},
     "output_type": "execute_result"
    },
    {
     "data": {
      "image/png": "[encoded data removed]",
      "text/plain": [
       "<Figure size 640x480 with 1 Axes>"
      ]
     },
     "metadata": {},
     "output_type": "display_data"
    }
   ],
   "source": [
    "plt.scatter(FECHAS2, GASTOS_DIARIOS)\n",
    "plt.xticks(rotation=30)\n",
    "plt.xlabel('Fechas')\n",
    "plt.ylabel('Gastos')\n",
    "plt.title('Gráfico de Dispersión de Gastos por Día')\n",
    "plt.show"
   ]
  },
  {
   "cell_type": "markdown",
   "id": "68ae335c",
   "metadata": {},
   "source": [
    "NOTAS: Se puede apreciar en la gráfica que los gastos diarios no soprepasan los $50\n"
   ]
  },
  {
   "cell_type": "markdown",
   "id": "fc426181",
   "metadata": {},
   "source": [
    "# Aplicando modelo Simple de Suavizado Exponencial"
   ]
  },
  {
   "cell_type": "markdown",
   "id": "5c2ff17b",
   "metadata": {},
   "source": [
    " Se escogió este modelo ya que nuestros datos tiene algunos valores volátiles o anomalías. Además que carecen de estacionalidad."
   ]
  },
  {
   "cell_type": "code",
   "execution_count": 196,
   "id": "bd318cd0",
   "metadata": {},
   "outputs": [],
   "source": [
    "from statsmodels.tsa.api import SimpleExpSmoothing"
   ]
  },
  {
   "cell_type": "code",
   "execution_count": 197,
   "id": "09dfac04",
   "metadata": {},
   "outputs": [
    {
     "data": {
      "text/html": [
       "<div>\n",
       "<style scoped>\n",
       "    .dataframe tbody tr th:only-of-type {\n",
       "        vertical-align: middle;\n",
       "    }\n",
       "\n",
       "    .dataframe tbody tr th {\n",
       "        vertical-align: top;\n",
       "    }\n",
       "\n",
       "    .dataframe thead th {\n",
       "        text-align: right;\n",
       "    }\n",
       "</style>\n",
       "<table border=\"1\" class=\"dataframe\">\n",
       "  <thead>\n",
       "    <tr style=\"text-align: right;\">\n",
       "      <th></th>\n",
       "      <th>DATE</th>\n",
       "      <th>AMOUNT</th>\n",
       "    </tr>\n",
       "  </thead>\n",
       "  <tbody>\n",
       "    <tr>\n",
       "      <th>0</th>\n",
       "      <td>2023-04-02</td>\n",
       "      <td>44.00</td>\n",
       "    </tr>\n",
       "    <tr>\n",
       "      <th>1</th>\n",
       "      <td>2023-04-09</td>\n",
       "      <td>378.86</td>\n",
       "    </tr>\n",
       "    <tr>\n",
       "      <th>2</th>\n",
       "      <td>2023-04-16</td>\n",
       "      <td>282.78</td>\n",
       "    </tr>\n",
       "    <tr>\n",
       "      <th>3</th>\n",
       "      <td>2023-04-23</td>\n",
       "      <td>70.00</td>\n",
       "    </tr>\n",
       "    <tr>\n",
       "      <th>4</th>\n",
       "      <td>2023-04-30</td>\n",
       "      <td>100.29</td>\n",
       "    </tr>\n",
       "    <tr>\n",
       "      <th>5</th>\n",
       "      <td>2023-05-07</td>\n",
       "      <td>35.59</td>\n",
       "    </tr>\n",
       "    <tr>\n",
       "      <th>6</th>\n",
       "      <td>2023-05-14</td>\n",
       "      <td>118.98</td>\n",
       "    </tr>\n",
       "    <tr>\n",
       "      <th>7</th>\n",
       "      <td>2023-05-21</td>\n",
       "      <td>559.27</td>\n",
       "    </tr>\n",
       "    <tr>\n",
       "      <th>8</th>\n",
       "      <td>2023-05-28</td>\n",
       "      <td>71.95</td>\n",
       "    </tr>\n",
       "    <tr>\n",
       "      <th>9</th>\n",
       "      <td>2023-06-04</td>\n",
       "      <td>31.00</td>\n",
       "    </tr>\n",
       "    <tr>\n",
       "      <th>10</th>\n",
       "      <td>2023-06-11</td>\n",
       "      <td>258.22</td>\n",
       "    </tr>\n",
       "    <tr>\n",
       "      <th>11</th>\n",
       "      <td>2023-06-18</td>\n",
       "      <td>95.22</td>\n",
       "    </tr>\n",
       "  </tbody>\n",
       "</table>\n",
       "</div>"
      ],
      "text/plain": [
       "         DATE  AMOUNT\n",
       "0  2023-04-02   44.00\n",
       "1  2023-04-09  378.86\n",
       "2  2023-04-16  282.78\n",
       "3  2023-04-23   70.00\n",
       "4  2023-04-30  100.29\n",
       "5  2023-05-07   35.59\n",
       "6  2023-05-14  118.98\n",
       "7  2023-05-21  559.27\n",
       "8  2023-05-28   71.95\n",
       "9  2023-06-04   31.00\n",
       "10 2023-06-11  258.22\n",
       "11 2023-06-18   95.22"
      ]
     },
     "execution_count": 197,
     "metadata": {},
     "output_type": "execute_result"
    }
   ],
   "source": [
    "#NUEVO DF QUE USAREMOS PARA MODELO\n",
    "#DATOS SERÁN UTILIZADOS COMO SEMANA\n",
    "WEEKEXPENSES = GASTOS.groupby(pd.Grouper(key='DATE', freq='W'))['AMOUNT'].sum()\n",
    "WEEKEXPENSES = WEEKEXPENSES.to_frame().reset_index() ##Convertiendo a DF para análisis\n",
    "WEEKEXPENSES = WEEKEXPENSES.sort_values('DATE')\n",
    "WEEKEXPENSES"
   ]
  },
  {
   "cell_type": "code",
   "execution_count": 198,
   "id": "dbfe92ab",
   "metadata": {},
   "outputs": [
    {
     "data": {
      "text/plain": [
       "DATE\n",
       "2023-04-02     44.00\n",
       "2023-04-09    378.86\n",
       "2023-04-16    282.78\n",
       "2023-04-23     70.00\n",
       "2023-04-30    100.29\n",
       "2023-05-07     35.59\n",
       "2023-05-14    118.98\n",
       "2023-05-21    559.27\n",
       "2023-05-28     71.95\n",
       "2023-06-04     31.00\n",
       "2023-06-11    258.22\n",
       "2023-06-18     95.22\n",
       "Freq: W-SUN, dtype: float64"
      ]
     },
     "execution_count": 198,
     "metadata": {},
     "output_type": "execute_result"
    }
   ],
   "source": [
    "# Extract the expenses as a time series\n",
    "expenses = pd.Series(WEEKEXPENSES['AMOUNT'].values, index=WEEKEXPENSES['DATE'])\n",
    "expenses.index.freq = 'W'\n",
    "expenses"
   ]
  },
  {
   "cell_type": "code",
   "execution_count": 199,
   "id": "32f28f45",
   "metadata": {},
   "outputs": [],
   "source": [
    "WEEKEXPENSES['AMOUNT'] = pd.to_numeric(WEEKEXPENSES['AMOUNT'], errors='coerce')\n",
    "WEEKEXPENSES.set_index('DATE', inplace=True)"
   ]
  },
  {
   "cell_type": "code",
   "execution_count": 200,
   "id": "9b4577b5",
   "metadata": {},
   "outputs": [],
   "source": [
    "alpha = 0.2  # Smoothing factor (0 < alpha < 1)\n",
    "model = SimpleExpSmoothing(expenses)\n",
    "fitted_model = model.fit(smoothing_level=alpha, optimized=False)\n"
   ]
  },
  {
   "cell_type": "code",
   "execution_count": 201,
   "id": "0bc71378",
   "metadata": {},
   "outputs": [
    {
     "data": {
      "text/html": [
       "<div>\n",
       "<style scoped>\n",
       "    .dataframe tbody tr th:only-of-type {\n",
       "        vertical-align: middle;\n",
       "    }\n",
       "\n",
       "    .dataframe tbody tr th {\n",
       "        vertical-align: top;\n",
       "    }\n",
       "\n",
       "    .dataframe thead th {\n",
       "        text-align: right;\n",
       "    }\n",
       "</style>\n",
       "<table border=\"1\" class=\"dataframe\">\n",
       "  <thead>\n",
       "    <tr style=\"text-align: right;\">\n",
       "      <th></th>\n",
       "      <th>AMOUNT</th>\n",
       "      <th>Expenses_smoothed</th>\n",
       "    </tr>\n",
       "    <tr>\n",
       "      <th>DATE</th>\n",
       "      <th></th>\n",
       "      <th></th>\n",
       "    </tr>\n",
       "  </thead>\n",
       "  <tbody>\n",
       "    <tr>\n",
       "      <th>2023-04-02</th>\n",
       "      <td>44.00</td>\n",
       "      <td>44.000000</td>\n",
       "    </tr>\n",
       "    <tr>\n",
       "      <th>2023-04-09</th>\n",
       "      <td>378.86</td>\n",
       "      <td>44.000000</td>\n",
       "    </tr>\n",
       "    <tr>\n",
       "      <th>2023-04-16</th>\n",
       "      <td>282.78</td>\n",
       "      <td>110.972000</td>\n",
       "    </tr>\n",
       "    <tr>\n",
       "      <th>2023-04-23</th>\n",
       "      <td>70.00</td>\n",
       "      <td>145.333600</td>\n",
       "    </tr>\n",
       "    <tr>\n",
       "      <th>2023-04-30</th>\n",
       "      <td>100.29</td>\n",
       "      <td>130.266880</td>\n",
       "    </tr>\n",
       "    <tr>\n",
       "      <th>2023-05-07</th>\n",
       "      <td>35.59</td>\n",
       "      <td>124.271504</td>\n",
       "    </tr>\n",
       "    <tr>\n",
       "      <th>2023-05-14</th>\n",
       "      <td>118.98</td>\n",
       "      <td>106.535203</td>\n",
       "    </tr>\n",
       "    <tr>\n",
       "      <th>2023-05-21</th>\n",
       "      <td>559.27</td>\n",
       "      <td>109.024163</td>\n",
       "    </tr>\n",
       "    <tr>\n",
       "      <th>2023-05-28</th>\n",
       "      <td>71.95</td>\n",
       "      <td>199.073330</td>\n",
       "    </tr>\n",
       "    <tr>\n",
       "      <th>2023-06-04</th>\n",
       "      <td>31.00</td>\n",
       "      <td>173.648664</td>\n",
       "    </tr>\n",
       "    <tr>\n",
       "      <th>2023-06-11</th>\n",
       "      <td>258.22</td>\n",
       "      <td>145.118931</td>\n",
       "    </tr>\n",
       "    <tr>\n",
       "      <th>2023-06-18</th>\n",
       "      <td>95.22</td>\n",
       "      <td>167.739145</td>\n",
       "    </tr>\n",
       "  </tbody>\n",
       "</table>\n",
       "</div>"
      ],
      "text/plain": [
       "            AMOUNT  Expenses_smoothed\n",
       "DATE                                 \n",
       "2023-04-02   44.00          44.000000\n",
       "2023-04-09  378.86          44.000000\n",
       "2023-04-16  282.78         110.972000\n",
       "2023-04-23   70.00         145.333600\n",
       "2023-04-30  100.29         130.266880\n",
       "2023-05-07   35.59         124.271504\n",
       "2023-05-14  118.98         106.535203\n",
       "2023-05-21  559.27         109.024163\n",
       "2023-05-28   71.95         199.073330\n",
       "2023-06-04   31.00         173.648664\n",
       "2023-06-11  258.22         145.118931\n",
       "2023-06-18   95.22         167.739145"
      ]
     },
     "execution_count": 201,
     "metadata": {},
     "output_type": "execute_result"
    }
   ],
   "source": [
    "fitted_values = pd.Series(fitted_model.fittedvalues, index=expenses.index)\n",
    "WEEKEXPENSES['Expenses_smoothed'] = fitted_values\n",
    "WEEKEXPENSES"
   ]
  },
  {
   "cell_type": "code",
   "execution_count": 202,
   "id": "b5eb52ba",
   "metadata": {},
   "outputs": [],
   "source": [
    "## EVALUACION DE MODELO\n",
    "from sklearn.metrics import mean_absolute_error, mean_squared_error\n",
    "predictions = fitted_model.fittedvalues\n",
    "mae = mean_absolute_error(expenses, predictions)\n",
    "rmse = mean_squared_error(expenses, predictions, squared=False)"
   ]
  },
  {
   "cell_type": "code",
   "execution_count": 203,
   "id": "75844034",
   "metadata": {},
   "outputs": [
    {
     "data": {
      "text/plain": [
       "134.89523550668804"
      ]
     },
     "execution_count": 203,
     "metadata": {},
     "output_type": "execute_result"
    }
   ],
   "source": [
    "mae"
   ]
  },
  {
   "cell_type": "code",
   "execution_count": 204,
   "id": "c995370b",
   "metadata": {},
   "outputs": [
    {
     "data": {
      "text/plain": [
       "185.63481845618224"
      ]
     },
     "execution_count": 204,
     "metadata": {},
     "output_type": "execute_result"
    }
   ],
   "source": [
    "rmse"
   ]
  },
  {
   "cell_type": "code",
   "execution_count": 205,
   "id": "fa915312",
   "metadata": {},
   "outputs": [
    {
     "data": {
      "text/plain": [
       "115.29943455172292"
      ]
     },
     "execution_count": 205,
     "metadata": {},
     "output_type": "execute_result"
    }
   ],
   "source": [
    "errors = abs(expenses - predictions)\n",
    "\n",
    "# Calcular los errores porcentuales\n",
    "percentage_errors = (errors / expenses) * 100\n",
    "\n",
    "# Calcular el MAPE\n",
    "mape = percentage_errors.mean()\n",
    "\n",
    "mape"
   ]
  },
  {
   "cell_type": "code",
   "execution_count": 206,
   "id": "bfdbc3bf",
   "metadata": {},
   "outputs": [],
   "source": [
    "## EN CONCLUSION LA PREDICCIÓN DIFIERE DE LOS DATOS REALES POR LO CUAL HAY QUE REALIZAR OTRO MODELO.\n",
    "alpha2 = 0.5  # Smoothing factor (0 < alpha < 1)\n",
    "model2 = SimpleExpSmoothing(expenses)\n",
    "fitted_model2 = model.fit(smoothing_level=alpha2, optimized=False)\n"
   ]
  },
  {
   "cell_type": "code",
   "execution_count": 207,
   "id": "ba996c8e",
   "metadata": {},
   "outputs": [
    {
     "data": {
      "text/html": [
       "<div>\n",
       "<style scoped>\n",
       "    .dataframe tbody tr th:only-of-type {\n",
       "        vertical-align: middle;\n",
       "    }\n",
       "\n",
       "    .dataframe tbody tr th {\n",
       "        vertical-align: top;\n",
       "    }\n",
       "\n",
       "    .dataframe thead th {\n",
       "        text-align: right;\n",
       "    }\n",
       "</style>\n",
       "<table border=\"1\" class=\"dataframe\">\n",
       "  <thead>\n",
       "    <tr style=\"text-align: right;\">\n",
       "      <th></th>\n",
       "      <th>AMOUNT</th>\n",
       "      <th>Expenses_smoothed</th>\n",
       "      <th>Expenses_smoothed2</th>\n",
       "    </tr>\n",
       "    <tr>\n",
       "      <th>DATE</th>\n",
       "      <th></th>\n",
       "      <th></th>\n",
       "      <th></th>\n",
       "    </tr>\n",
       "  </thead>\n",
       "  <tbody>\n",
       "    <tr>\n",
       "      <th>2023-04-02</th>\n",
       "      <td>44.00</td>\n",
       "      <td>44.000000</td>\n",
       "      <td>44.000000</td>\n",
       "    </tr>\n",
       "    <tr>\n",
       "      <th>2023-04-09</th>\n",
       "      <td>378.86</td>\n",
       "      <td>44.000000</td>\n",
       "      <td>44.000000</td>\n",
       "    </tr>\n",
       "    <tr>\n",
       "      <th>2023-04-16</th>\n",
       "      <td>282.78</td>\n",
       "      <td>110.972000</td>\n",
       "      <td>211.430000</td>\n",
       "    </tr>\n",
       "    <tr>\n",
       "      <th>2023-04-23</th>\n",
       "      <td>70.00</td>\n",
       "      <td>145.333600</td>\n",
       "      <td>247.105000</td>\n",
       "    </tr>\n",
       "    <tr>\n",
       "      <th>2023-04-30</th>\n",
       "      <td>100.29</td>\n",
       "      <td>130.266880</td>\n",
       "      <td>158.552500</td>\n",
       "    </tr>\n",
       "    <tr>\n",
       "      <th>2023-05-07</th>\n",
       "      <td>35.59</td>\n",
       "      <td>124.271504</td>\n",
       "      <td>129.421250</td>\n",
       "    </tr>\n",
       "    <tr>\n",
       "      <th>2023-05-14</th>\n",
       "      <td>118.98</td>\n",
       "      <td>106.535203</td>\n",
       "      <td>82.505625</td>\n",
       "    </tr>\n",
       "    <tr>\n",
       "      <th>2023-05-21</th>\n",
       "      <td>559.27</td>\n",
       "      <td>109.024163</td>\n",
       "      <td>100.742813</td>\n",
       "    </tr>\n",
       "    <tr>\n",
       "      <th>2023-05-28</th>\n",
       "      <td>71.95</td>\n",
       "      <td>199.073330</td>\n",
       "      <td>330.006406</td>\n",
       "    </tr>\n",
       "    <tr>\n",
       "      <th>2023-06-04</th>\n",
       "      <td>31.00</td>\n",
       "      <td>173.648664</td>\n",
       "      <td>200.978203</td>\n",
       "    </tr>\n",
       "    <tr>\n",
       "      <th>2023-06-11</th>\n",
       "      <td>258.22</td>\n",
       "      <td>145.118931</td>\n",
       "      <td>115.989102</td>\n",
       "    </tr>\n",
       "    <tr>\n",
       "      <th>2023-06-18</th>\n",
       "      <td>95.22</td>\n",
       "      <td>167.739145</td>\n",
       "      <td>187.104551</td>\n",
       "    </tr>\n",
       "  </tbody>\n",
       "</table>\n",
       "</div>"
      ],
      "text/plain": [
       "            AMOUNT  Expenses_smoothed  Expenses_smoothed2\n",
       "DATE                                                     \n",
       "2023-04-02   44.00          44.000000           44.000000\n",
       "2023-04-09  378.86          44.000000           44.000000\n",
       "2023-04-16  282.78         110.972000          211.430000\n",
       "2023-04-23   70.00         145.333600          247.105000\n",
       "2023-04-30  100.29         130.266880          158.552500\n",
       "2023-05-07   35.59         124.271504          129.421250\n",
       "2023-05-14  118.98         106.535203           82.505625\n",
       "2023-05-21  559.27         109.024163          100.742813\n",
       "2023-05-28   71.95         199.073330          330.006406\n",
       "2023-06-04   31.00         173.648664          200.978203\n",
       "2023-06-11  258.22         145.118931          115.989102\n",
       "2023-06-18   95.22         167.739145          187.104551"
      ]
     },
     "execution_count": 207,
     "metadata": {},
     "output_type": "execute_result"
    }
   ],
   "source": [
    "fitted_values2 = pd.Series(fitted_model2.fittedvalues, index=expenses.index)\n",
    "WEEKEXPENSES['Expenses_smoothed2'] = fitted_values2\n",
    "WEEKEXPENSES"
   ]
  },
  {
   "cell_type": "code",
   "execution_count": 208,
   "id": "690940a5",
   "metadata": {},
   "outputs": [
    {
     "data": {
      "text/plain": [
       "157.71336425781251"
      ]
     },
     "execution_count": 208,
     "metadata": {},
     "output_type": "execute_result"
    }
   ],
   "source": [
    "predictions2 = fitted_model2.fittedvalues\n",
    "mae2 = mean_absolute_error(expenses, predictions2)\n",
    "rmse2 = mean_squared_error(expenses, predictions2, squared=False)\n",
    "errors2 = abs(expenses - predictions)\n",
    "mae2"
   ]
  },
  {
   "cell_type": "code",
   "execution_count": 209,
   "id": "69de8619",
   "metadata": {},
   "outputs": [
    {
     "data": {
      "text/plain": [
       "115.29943455172292"
      ]
     },
     "execution_count": 209,
     "metadata": {},
     "output_type": "execute_result"
    }
   ],
   "source": [
    "errors2 = abs(expenses - predictions2)\n",
    "\n",
    "# Calcular los errores porcentuales\n",
    "percentage_errors2 = (errors / expenses) * 100\n",
    "\n",
    "# Calcular el MAPE\n",
    "mape2 = percentage_errors2.mean()\n",
    "\n",
    "mape2"
   ]
  },
  {
   "cell_type": "code",
   "execution_count": 210,
   "id": "e8579365",
   "metadata": {},
   "outputs": [],
   "source": [
    "alpha3 = 0.1  # Smoothing factor (0 < alpha < 1)\n",
    "model3 = SimpleExpSmoothing(expenses)\n",
    "fitted_model3 = model.fit(smoothing_level=alpha3, optimized=False)"
   ]
  },
  {
   "cell_type": "code",
   "execution_count": 211,
   "id": "df3cd069",
   "metadata": {},
   "outputs": [
    {
     "data": {
      "text/html": [
       "<div>\n",
       "<style scoped>\n",
       "    .dataframe tbody tr th:only-of-type {\n",
       "        vertical-align: middle;\n",
       "    }\n",
       "\n",
       "    .dataframe tbody tr th {\n",
       "        vertical-align: top;\n",
       "    }\n",
       "\n",
       "    .dataframe thead th {\n",
       "        text-align: right;\n",
       "    }\n",
       "</style>\n",
       "<table border=\"1\" class=\"dataframe\">\n",
       "  <thead>\n",
       "    <tr style=\"text-align: right;\">\n",
       "      <th></th>\n",
       "      <th>AMOUNT</th>\n",
       "      <th>Expenses_smoothed</th>\n",
       "      <th>Expenses_smoothed2</th>\n",
       "      <th>Expenses_smoothed3</th>\n",
       "    </tr>\n",
       "    <tr>\n",
       "      <th>DATE</th>\n",
       "      <th></th>\n",
       "      <th></th>\n",
       "      <th></th>\n",
       "      <th></th>\n",
       "    </tr>\n",
       "  </thead>\n",
       "  <tbody>\n",
       "    <tr>\n",
       "      <th>2023-04-02</th>\n",
       "      <td>44.00</td>\n",
       "      <td>44.000000</td>\n",
       "      <td>44.000000</td>\n",
       "      <td>44.000000</td>\n",
       "    </tr>\n",
       "    <tr>\n",
       "      <th>2023-04-09</th>\n",
       "      <td>378.86</td>\n",
       "      <td>44.000000</td>\n",
       "      <td>44.000000</td>\n",
       "      <td>44.000000</td>\n",
       "    </tr>\n",
       "    <tr>\n",
       "      <th>2023-04-16</th>\n",
       "      <td>282.78</td>\n",
       "      <td>110.972000</td>\n",
       "      <td>211.430000</td>\n",
       "      <td>77.486000</td>\n",
       "    </tr>\n",
       "    <tr>\n",
       "      <th>2023-04-23</th>\n",
       "      <td>70.00</td>\n",
       "      <td>145.333600</td>\n",
       "      <td>247.105000</td>\n",
       "      <td>98.015400</td>\n",
       "    </tr>\n",
       "    <tr>\n",
       "      <th>2023-04-30</th>\n",
       "      <td>100.29</td>\n",
       "      <td>130.266880</td>\n",
       "      <td>158.552500</td>\n",
       "      <td>95.213860</td>\n",
       "    </tr>\n",
       "    <tr>\n",
       "      <th>2023-05-07</th>\n",
       "      <td>35.59</td>\n",
       "      <td>124.271504</td>\n",
       "      <td>129.421250</td>\n",
       "      <td>95.721474</td>\n",
       "    </tr>\n",
       "    <tr>\n",
       "      <th>2023-05-14</th>\n",
       "      <td>118.98</td>\n",
       "      <td>106.535203</td>\n",
       "      <td>82.505625</td>\n",
       "      <td>89.708327</td>\n",
       "    </tr>\n",
       "    <tr>\n",
       "      <th>2023-05-21</th>\n",
       "      <td>559.27</td>\n",
       "      <td>109.024163</td>\n",
       "      <td>100.742813</td>\n",
       "      <td>92.635494</td>\n",
       "    </tr>\n",
       "    <tr>\n",
       "      <th>2023-05-28</th>\n",
       "      <td>71.95</td>\n",
       "      <td>199.073330</td>\n",
       "      <td>330.006406</td>\n",
       "      <td>139.298945</td>\n",
       "    </tr>\n",
       "    <tr>\n",
       "      <th>2023-06-04</th>\n",
       "      <td>31.00</td>\n",
       "      <td>173.648664</td>\n",
       "      <td>200.978203</td>\n",
       "      <td>132.564050</td>\n",
       "    </tr>\n",
       "    <tr>\n",
       "      <th>2023-06-11</th>\n",
       "      <td>258.22</td>\n",
       "      <td>145.118931</td>\n",
       "      <td>115.989102</td>\n",
       "      <td>122.407645</td>\n",
       "    </tr>\n",
       "    <tr>\n",
       "      <th>2023-06-18</th>\n",
       "      <td>95.22</td>\n",
       "      <td>167.739145</td>\n",
       "      <td>187.104551</td>\n",
       "      <td>135.988881</td>\n",
       "    </tr>\n",
       "  </tbody>\n",
       "</table>\n",
       "</div>"
      ],
      "text/plain": [
       "            AMOUNT  Expenses_smoothed  Expenses_smoothed2  Expenses_smoothed3\n",
       "DATE                                                                         \n",
       "2023-04-02   44.00          44.000000           44.000000           44.000000\n",
       "2023-04-09  378.86          44.000000           44.000000           44.000000\n",
       "2023-04-16  282.78         110.972000          211.430000           77.486000\n",
       "2023-04-23   70.00         145.333600          247.105000           98.015400\n",
       "2023-04-30  100.29         130.266880          158.552500           95.213860\n",
       "2023-05-07   35.59         124.271504          129.421250           95.721474\n",
       "2023-05-14  118.98         106.535203           82.505625           89.708327\n",
       "2023-05-21  559.27         109.024163          100.742813           92.635494\n",
       "2023-05-28   71.95         199.073330          330.006406          139.298945\n",
       "2023-06-04   31.00         173.648664          200.978203          132.564050\n",
       "2023-06-11  258.22         145.118931          115.989102          122.407645\n",
       "2023-06-18   95.22         167.739145          187.104551          135.988881"
      ]
     },
     "execution_count": 211,
     "metadata": {},
     "output_type": "execute_result"
    }
   ],
   "source": [
    "fitted_values3 = pd.Series(fitted_model3.fittedvalues, index=expenses.index)\n",
    "WEEKEXPENSES['Expenses_smoothed3'] = fitted_values3\n",
    "WEEKEXPENSES"
   ]
  },
  {
   "cell_type": "code",
   "execution_count": 212,
   "id": "bf1c9226",
   "metadata": {},
   "outputs": [
    {
     "data": {
      "text/plain": [
       "122.89811863243118"
      ]
     },
     "execution_count": 212,
     "metadata": {},
     "output_type": "execute_result"
    }
   ],
   "source": [
    "#EVALUANDO 3ER MODELO\n",
    "predictions3 = fitted_model3.fittedvalues\n",
    "mae3 = mean_absolute_error(expenses, predictions3)\n",
    "rmse3 = mean_squared_error(expenses, predictions3, squared=False)\n",
    "errors3 = abs(expenses - predictions3)\n",
    "mae3"
   ]
  },
  {
   "cell_type": "code",
   "execution_count": 213,
   "id": "a7799d11",
   "metadata": {},
   "outputs": [
    {
     "data": {
      "text/plain": [
       "185.35238896027195"
      ]
     },
     "execution_count": 213,
     "metadata": {},
     "output_type": "execute_result"
    }
   ],
   "source": [
    "rmse3"
   ]
  },
  {
   "cell_type": "code",
   "execution_count": 214,
   "id": "0784c4a3",
   "metadata": {},
   "outputs": [
    {
     "data": {
      "text/plain": [
       "83.30875165280365"
      ]
     },
     "execution_count": 214,
     "metadata": {},
     "output_type": "execute_result"
    }
   ],
   "source": [
    "errors3 = abs(expenses - predictions3)\n",
    "\n",
    "# Calcular los errores porcentuales\n",
    "percentage_errors3 = (errors3 / expenses) * 100\n",
    "\n",
    "# Calcular el MAPE\n",
    "mape3 = percentage_errors3.mean()\n",
    "\n",
    "mape3"
   ]
  },
  {
   "cell_type": "code",
   "execution_count": 215,
   "id": "8c6223dc",
   "metadata": {},
   "outputs": [],
   "source": [
    "## EL PORCENTAJE DE ERROR SIGUE SIENDO RELATIVAMENTE ALTO POR LO CUAL SE PUEDE SEGUIR MEJORANDO EL MODELO. \n"
   ]
  },
  {
   "cell_type": "code",
   "execution_count": 216,
   "id": "5532395f",
   "metadata": {},
   "outputs": [],
   "source": [
    "#COMPARACION VISUAL DE DATOS ORIGINALES Y PREDICHOS.\n",
    "FECHA_ = WEEKEXPENSES.index\n",
    "DATOS_ORIGINALES = WEEKEXPENSES['AMOUNT']\n",
    "DATOS_PREDICCION = WEEKEXPENSES['Expenses_smoothed3']\n",
    "DATOS_PREDICCION2 = WEEKEXPENSES['Expenses_smoothed']"
   ]
  },
  {
   "cell_type": "code",
   "execution_count": 217,
   "id": "879d458f",
   "metadata": {},
   "outputs": [
    {
     "data": {
      "text/plain": [
       "<function matplotlib.pyplot.show(close=None, block=None)>"
      ]
     },
     "execution_count": 217,
     "metadata": {},
     "output_type": "execute_result"
    },
    {
     "data": {
      "image/png": "[encoded data removed]",
      "text/plain": [
       "<Figure size 640x480 with 1 Axes>"
      ]
     },
     "metadata": {},
     "output_type": "display_data"
    }
   ],
   "source": [
    "plt.plot(FECHA_, DATOS_ORIGINALES, label='Valores Originales')\n",
    "plt.plot(FECHA_, DATOS_PREDICCION, label='Valores Predichos')\n",
    "plt.plot(FECHA_, DATOS_PREDICCION2, label='Valores Predichos2')\n",
    "plt.xticks(rotation=45)\n",
    "plt.show"
   ]
  },
  {
   "cell_type": "markdown",
   "id": "94124d54",
   "metadata": {},
   "source": [
    "# 2DO MODELO SUAVIZADO EXPONENCIAL SIMPLE "
   ]
  },
  {
   "cell_type": "markdown",
   "id": "9bbc5403",
   "metadata": {},
   "source": [
    "En este caso utilizaremos datos diarios para tratar de mejorar el modelo."
   ]
  },
  {
   "cell_type": "code",
   "execution_count": 218,
   "id": "25f695b1",
   "metadata": {},
   "outputs": [
    {
     "data": {
      "text/html": [
       "<div>\n",
       "<style scoped>\n",
       "    .dataframe tbody tr th:only-of-type {\n",
       "        vertical-align: middle;\n",
       "    }\n",
       "\n",
       "    .dataframe tbody tr th {\n",
       "        vertical-align: top;\n",
       "    }\n",
       "\n",
       "    .dataframe thead th {\n",
       "        text-align: right;\n",
       "    }\n",
       "</style>\n",
       "<table border=\"1\" class=\"dataframe\">\n",
       "  <thead>\n",
       "    <tr style=\"text-align: right;\">\n",
       "      <th></th>\n",
       "      <th>DATE</th>\n",
       "      <th>AMOUNT</th>\n",
       "    </tr>\n",
       "  </thead>\n",
       "  <tbody>\n",
       "    <tr>\n",
       "      <th>0</th>\n",
       "      <td>2023-04-01</td>\n",
       "      <td>25.50</td>\n",
       "    </tr>\n",
       "    <tr>\n",
       "      <th>1</th>\n",
       "      <td>2023-04-02</td>\n",
       "      <td>18.50</td>\n",
       "    </tr>\n",
       "    <tr>\n",
       "      <th>2</th>\n",
       "      <td>2023-04-03</td>\n",
       "      <td>0.00</td>\n",
       "    </tr>\n",
       "    <tr>\n",
       "      <th>3</th>\n",
       "      <td>2023-04-04</td>\n",
       "      <td>0.00</td>\n",
       "    </tr>\n",
       "    <tr>\n",
       "      <th>4</th>\n",
       "      <td>2023-04-05</td>\n",
       "      <td>308.50</td>\n",
       "    </tr>\n",
       "    <tr>\n",
       "      <th>...</th>\n",
       "      <td>...</td>\n",
       "      <td>...</td>\n",
       "    </tr>\n",
       "    <tr>\n",
       "      <th>74</th>\n",
       "      <td>2023-06-14</td>\n",
       "      <td>0.00</td>\n",
       "    </tr>\n",
       "    <tr>\n",
       "      <th>75</th>\n",
       "      <td>2023-06-15</td>\n",
       "      <td>14.70</td>\n",
       "    </tr>\n",
       "    <tr>\n",
       "      <th>76</th>\n",
       "      <td>2023-06-16</td>\n",
       "      <td>2.00</td>\n",
       "    </tr>\n",
       "    <tr>\n",
       "      <th>77</th>\n",
       "      <td>2023-06-17</td>\n",
       "      <td>53.62</td>\n",
       "    </tr>\n",
       "    <tr>\n",
       "      <th>78</th>\n",
       "      <td>2023-06-18</td>\n",
       "      <td>22.90</td>\n",
       "    </tr>\n",
       "  </tbody>\n",
       "</table>\n",
       "<p>79 rows × 2 columns</p>\n",
       "</div>"
      ],
      "text/plain": [
       "         DATE  AMOUNT\n",
       "0  2023-04-01   25.50\n",
       "1  2023-04-02   18.50\n",
       "2  2023-04-03    0.00\n",
       "3  2023-04-04    0.00\n",
       "4  2023-04-05  308.50\n",
       "..        ...     ...\n",
       "74 2023-06-14    0.00\n",
       "75 2023-06-15   14.70\n",
       "76 2023-06-16    2.00\n",
       "77 2023-06-17   53.62\n",
       "78 2023-06-18   22.90\n",
       "\n",
       "[79 rows x 2 columns]"
      ]
     },
     "execution_count": 218,
     "metadata": {},
     "output_type": "execute_result"
    }
   ],
   "source": [
    "#NUEVO DF QUE USAREMOS PARA MODELO\n",
    "#DATOS SERÁN UTILIZADOS COMO SEMANA\n",
    "DAYEXPENSES = GASTOS.groupby(pd.Grouper(key='DATE', freq='D'))['AMOUNT'].sum()\n",
    "DAYEXPENSES = DAYEXPENSES.to_frame().reset_index() ##Convertiendo a DF para análisis\n",
    "DAYEXPENSES = DAYEXPENSES.sort_values('DATE')\n",
    "DAYEXPENSES\n",
    "\n"
   ]
  },
  {
   "cell_type": "code",
   "execution_count": 219,
   "id": "dd4fb7bd",
   "metadata": {},
   "outputs": [
    {
     "data": {
      "text/plain": [
       "DATE\n",
       "2023-04-01     25.50\n",
       "2023-04-02     18.50\n",
       "2023-04-03      0.00\n",
       "2023-04-04      0.00\n",
       "2023-04-05    308.50\n",
       "               ...  \n",
       "2023-06-14      0.00\n",
       "2023-06-15     14.70\n",
       "2023-06-16      2.00\n",
       "2023-06-17     53.62\n",
       "2023-06-18     22.90\n",
       "Freq: D, Length: 79, dtype: float64"
      ]
     },
     "execution_count": 219,
     "metadata": {},
     "output_type": "execute_result"
    }
   ],
   "source": [
    "expensesperday = pd.Series(DAYEXPENSES['AMOUNT'].values, index=DAYEXPENSES['DATE'])\n",
    "expensesperday.index.freq = 'D'\n",
    "expensesperday"
   ]
  },
  {
   "cell_type": "code",
   "execution_count": 220,
   "id": "c966efd6",
   "metadata": {},
   "outputs": [],
   "source": [
    "DAYEXPENSES['AMOUNT'] = pd.to_numeric(DAYEXPENSES['AMOUNT'], errors='coerce')\n",
    "DAYEXPENSES.set_index('DATE', inplace=True)"
   ]
  },
  {
   "cell_type": "code",
   "execution_count": 239,
   "id": "79c38ca0",
   "metadata": {},
   "outputs": [],
   "source": [
    "alpha5 = 0.1  # Smoothing factor (0 < alpha < 1)\n",
    "model5 = SimpleExpSmoothing(expensesperday)\n",
    "fitted_model5 = model5.fit(smoothing_level=alpha5, optimized=False)\n"
   ]
  },
  {
   "cell_type": "code",
   "execution_count": 240,
   "id": "64c07ee8",
   "metadata": {},
   "outputs": [
    {
     "data": {
      "text/html": [
       "<div>\n",
       "<style scoped>\n",
       "    .dataframe tbody tr th:only-of-type {\n",
       "        vertical-align: middle;\n",
       "    }\n",
       "\n",
       "    .dataframe tbody tr th {\n",
       "        vertical-align: top;\n",
       "    }\n",
       "\n",
       "    .dataframe thead th {\n",
       "        text-align: right;\n",
       "    }\n",
       "</style>\n",
       "<table border=\"1\" class=\"dataframe\">\n",
       "  <thead>\n",
       "    <tr style=\"text-align: right;\">\n",
       "      <th></th>\n",
       "      <th>AMOUNT</th>\n",
       "      <th>Expenses_smoothed</th>\n",
       "    </tr>\n",
       "    <tr>\n",
       "      <th>DATE</th>\n",
       "      <th></th>\n",
       "      <th></th>\n",
       "    </tr>\n",
       "  </thead>\n",
       "  <tbody>\n",
       "    <tr>\n",
       "      <th>2023-04-01</th>\n",
       "      <td>25.50</td>\n",
       "      <td>25.500000</td>\n",
       "    </tr>\n",
       "    <tr>\n",
       "      <th>2023-04-02</th>\n",
       "      <td>18.50</td>\n",
       "      <td>25.500000</td>\n",
       "    </tr>\n",
       "    <tr>\n",
       "      <th>2023-04-03</th>\n",
       "      <td>0.00</td>\n",
       "      <td>24.800000</td>\n",
       "    </tr>\n",
       "    <tr>\n",
       "      <th>2023-04-04</th>\n",
       "      <td>0.00</td>\n",
       "      <td>22.320000</td>\n",
       "    </tr>\n",
       "    <tr>\n",
       "      <th>2023-04-05</th>\n",
       "      <td>308.50</td>\n",
       "      <td>20.088000</td>\n",
       "    </tr>\n",
       "    <tr>\n",
       "      <th>...</th>\n",
       "      <td>...</td>\n",
       "      <td>...</td>\n",
       "    </tr>\n",
       "    <tr>\n",
       "      <th>2023-06-14</th>\n",
       "      <td>0.00</td>\n",
       "      <td>20.581520</td>\n",
       "    </tr>\n",
       "    <tr>\n",
       "      <th>2023-06-15</th>\n",
       "      <td>14.70</td>\n",
       "      <td>18.523368</td>\n",
       "    </tr>\n",
       "    <tr>\n",
       "      <th>2023-06-16</th>\n",
       "      <td>2.00</td>\n",
       "      <td>18.141031</td>\n",
       "    </tr>\n",
       "    <tr>\n",
       "      <th>2023-06-17</th>\n",
       "      <td>53.62</td>\n",
       "      <td>16.526928</td>\n",
       "    </tr>\n",
       "    <tr>\n",
       "      <th>2023-06-18</th>\n",
       "      <td>22.90</td>\n",
       "      <td>20.236235</td>\n",
       "    </tr>\n",
       "  </tbody>\n",
       "</table>\n",
       "<p>79 rows × 2 columns</p>\n",
       "</div>"
      ],
      "text/plain": [
       "            AMOUNT  Expenses_smoothed\n",
       "DATE                                 \n",
       "2023-04-01   25.50          25.500000\n",
       "2023-04-02   18.50          25.500000\n",
       "2023-04-03    0.00          24.800000\n",
       "2023-04-04    0.00          22.320000\n",
       "2023-04-05  308.50          20.088000\n",
       "...            ...                ...\n",
       "2023-06-14    0.00          20.581520\n",
       "2023-06-15   14.70          18.523368\n",
       "2023-06-16    2.00          18.141031\n",
       "2023-06-17   53.62          16.526928\n",
       "2023-06-18   22.90          20.236235\n",
       "\n",
       "[79 rows x 2 columns]"
      ]
     },
     "execution_count": 240,
     "metadata": {},
     "output_type": "execute_result"
    }
   ],
   "source": [
    "fitted_values5 = pd.Series(fitted_model5.fittedvalues, index=expensesperday.index)\n",
    "DAYEXPENSES['Expenses_smoothed'] = fitted_values5\n",
    "DAYEXPENSES"
   ]
  },
  {
   "cell_type": "markdown",
   "id": "bf0e4a8e",
   "metadata": {},
   "source": [
    "EVALUANDO EL NUEVO MODELO"
   ]
  },
  {
   "cell_type": "code",
   "execution_count": 241,
   "id": "ef07b1e0",
   "metadata": {},
   "outputs": [
    {
     "data": {
      "text/plain": [
       "inf"
      ]
     },
     "execution_count": 241,
     "metadata": {},
     "output_type": "execute_result"
    }
   ],
   "source": [
    "predictions5 = fitted_model5.fittedvalues\n",
    "errors5 = abs(expensesperday - predictions5)\n",
    "\n",
    "# Calcular los errores porcentuales\n",
    "percentage_errors5 = (errors5 / expensesperday) * 100\n",
    "\n",
    "# Calcular el MAPE\n",
    "mape5 = percentage_errors5.mean()\n",
    "\n",
    "mape5"
   ]
  },
  {
   "cell_type": "code",
   "execution_count": 242,
   "id": "6d0de0da",
   "metadata": {},
   "outputs": [],
   "source": [
    "mae5 = mean_absolute_error(expensesperday, predictions5)\n",
    "rmse5 = mean_squared_error(expensesperday, predictions5, squared=False)"
   ]
  },
  {
   "cell_type": "code",
   "execution_count": 243,
   "id": "2efe47cf",
   "metadata": {},
   "outputs": [
    {
     "data": {
      "text/plain": [
       "31.515937766148397"
      ]
     },
     "execution_count": 243,
     "metadata": {},
     "output_type": "execute_result"
    }
   ],
   "source": [
    "mae5"
   ]
  },
  {
   "cell_type": "code",
   "execution_count": 244,
   "id": "e404e6e3",
   "metadata": {},
   "outputs": [
    {
     "data": {
      "text/plain": [
       "60.46786974741887"
      ]
     },
     "execution_count": 244,
     "metadata": {},
     "output_type": "execute_result"
    }
   ],
   "source": [
    "rmse5"
   ]
  },
  {
   "cell_type": "markdown",
   "id": "55c0a84f",
   "metadata": {},
   "source": [
    "# Gráfico 7: Nuevo Modelo con Datos Diarios"
   ]
  },
  {
   "cell_type": "code",
   "execution_count": 246,
   "id": "16d73ced",
   "metadata": {},
   "outputs": [],
   "source": [
    "#ASIGNANDO VARIABLES PARA GRÁFICA\n",
    "FECHA_5 = DAYEXPENSES.index\n",
    "DATOS_ORIGINALES5 = DAYEXPENSES['AMOUNT']\n",
    "DATOS_PREDICCION5 = DAYEXPENSES['Expenses_smoothed']\n"
   ]
  },
  {
   "cell_type": "code",
   "execution_count": 247,
   "id": "05d7832c",
   "metadata": {},
   "outputs": [
    {
     "data": {
      "text/plain": [
       "<function matplotlib.pyplot.show(close=None, block=None)>"
      ]
     },
     "execution_count": 247,
     "metadata": {},
     "output_type": "execute_result"
    },
    {
     "data": {
      "image/png": "[encoded data removed]",
      "text/plain": [
       "<Figure size 640x480 with 1 Axes>"
      ]
     },
     "metadata": {},
     "output_type": "display_data"
    }
   ],
   "source": [
    "plt.plot(FECHA_5, DATOS_ORIGINALES5, label='Valores Originales')\n",
    "plt.plot(FECHA_5, DATOS_PREDICCION5, label='Valores Predichos')\n",
    "plt.xticks(rotation=45)\n",
    "plt.show"
   ]
  },
  {
   "cell_type": "code",
   "execution_count": null,
   "id": "51affe98",
   "metadata": {},
   "outputs": [],
   "source": []
  }
 ],
 "metadata": {
  "kernelspec": {
   "display_name": "Python 3 (ipykernel)",
   "language": "python",
   "name": "python3"
  },
  "language_info": {
   "codemirror_mode": {
    "name": "ipython",
    "version": 3
   },
   "file_extension": ".py",
   "mimetype": "text/x-python",
   "name": "python",
   "nbconvert_exporter": "python",
   "pygments_lexer": "ipython3",
   "version": "3.10.9"
  }
 },
 "nbformat": 4,
 "nbformat_minor": 5
}
